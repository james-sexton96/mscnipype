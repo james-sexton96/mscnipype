{
 "cells": [
  {
   "cell_type": "code",
   "execution_count": null,
   "metadata": {
    "collapsed": true
   },
   "outputs": [],
   "source": [
    "from os.path import join as opj\n",
    "from dsp_functions import *\n",
    "from rsfmri_preproc import preproc_workflow"
   ]
  },
  {
   "cell_type": "code",
   "execution_count": null,
   "outputs": [],
   "source": [
    "# specify the input directory\n",
    "input_dir = 'Path/To/BIDS/format/'"
   ],
   "metadata": {
    "collapsed": false,
    "pycharm": {
     "name": "#%%\n"
    }
   }
  },
  {
   "cell_type": "code",
   "execution_count": null,
   "outputs": [],
   "source": [
    "# specify the output directory and subdirectories\n",
    "\n",
    "experiment_dir = '/path/to/outputs'\n",
    "output_directory = 'datasink'  # subdirectory name for datasink\n",
    "working_directory = 'workingdir'  # subdirectory name for working directory (saving intermediate steps)"
   ],
   "metadata": {
    "collapsed": false,
    "pycharm": {
     "name": "#%%\n"
    }
   }
  },
  {
   "cell_type": "code",
   "execution_count": null,
   "outputs": [],
   "source": [
    "# list of subject identifiers, input your subject numbers.\n",
    "subject_list = ['01', '02', '03']  # is your iterable list detailing each subject number"
   ],
   "metadata": {
    "collapsed": false,
    "pycharm": {
     "name": "#%%\n"
    }
   }
  },
  {
   "cell_type": "code",
   "execution_count": null,
   "outputs": [],
   "source": [
    "# list of session identifiers\n",
    "ses_list = ['1', '2']  # is your iterable list identifying each session id number"
   ],
   "metadata": {
    "collapsed": false,
    "pycharm": {
     "name": "#%%\n"
    }
   }
  },
  {
   "cell_type": "code",
   "execution_count": null,
   "outputs": [],
   "source": [
    "# use this to specify the formatting of your input file path names - this is the BIDS standard format c. 2019\n",
    "anatomical_filename = opj('sub-ID{subject_id}', 'ses-{ses}', 'anat', 'sub-ID{subject_id}_ses-{ses}*.nii.gz')\n",
    "functional_filename = opj('sub-ID{subject_id}', 'ses-{ses}', 'func', 'sub-ID{subject_id}_ses-{ses}*.nii.gz')"
   ],
   "metadata": {
    "collapsed": false,
    "pycharm": {
     "name": "#%%\n"
    }
   }
  },
  {
   "cell_type": "code",
   "execution_count": null,
   "outputs": [],
   "source": [
    "# create the workflow (saves graphical output upon execution)\n",
    "pipeline = preproc_workflow(input_dir=input_dir,\n",
    "                             output_dir=experiment_dir,\n",
    "                             anat_file=anatomical_filename,\n",
    "                             func_file=functional_filename)"
   ],
   "metadata": {
    "collapsed": false,
    "pycharm": {
     "name": "#%%\n"
    }
   }
  },
  {
   "cell_type": "code",
   "execution_count": null,
   "outputs": [],
   "source": [
    "# runs the pipline\n",
    "pipeline.run('MultiProc', plugin_args={'n_procs' : 6}) # runs the entire workflow with 6 virtual processes"
   ],
   "metadata": {
    "collapsed": false,
    "pycharm": {
     "name": "#%%\n"
    }
   }
  },
  {
   "cell_type": "code",
   "execution_count": null,
   "outputs": [],
   "source": [],
   "metadata": {
    "collapsed": false,
    "pycharm": {
     "name": "#%%\n"
    }
   }
  }
 ],
 "metadata": {
  "kernelspec": {
   "display_name": "Python 3",
   "language": "python",
   "name": "python3"
  },
  "language_info": {
   "codemirror_mode": {
    "name": "ipython",
    "version": 2
   },
   "file_extension": ".py",
   "mimetype": "text/x-python",
   "name": "python",
   "nbconvert_exporter": "python",
   "pygments_lexer": "ipython2",
   "version": "2.7.6"
  }
 },
 "nbformat": 4,
 "nbformat_minor": 0
}